{
 "cells": [
  {
   "cell_type": "code",
   "execution_count": 1,
   "metadata": {},
   "outputs": [],
   "source": [
    "import io\n",
    "import uvicorn\n",
    "import numpy as np\n",
    "import nest_asyncio\n",
    "from enum import Enum\n",
    "from fastapi import FastAPI, UploadFile, File, HTTPException\n",
    "from fastapi.responses import StreamingResponse\n",
    "import os\n",
    "import tensorflow as tf\n",
    "from tensorflow import keras\n",
    "from tensorflow.keras.models import Sequential\n",
    "from tensorflow.keras.optimizers import Adam\n",
    "from tensorflow.keras.preprocessing.image import ImageDataGenerator\n",
    "from tensorflow.keras.layers import Conv2D, MaxPooling2D, Flatten, Dense,InputLayer, Activation, Dropout, BatchNormalization"
   ]
  },
  {
   "cell_type": "code",
   "execution_count": 12,
   "metadata": {},
   "outputs": [
    {
     "name": "stderr",
     "output_type": "stream",
     "text": [
      "INFO:     Started server process [20844]\n",
      "INFO:     Waiting for application startup.\n",
      "INFO:     Application startup complete.\n",
      "INFO:     Uvicorn running on http://localhost:8000 (Press CTRL+C to quit)\n"
     ]
    },
    {
     "name": "stdout",
     "output_type": "stream",
     "text": [
      "INFO:     ::1:12775 - \"POST /upload_image/ HTTP/1.1\" 500 Internal Server Error\n"
     ]
    },
    {
     "name": "stderr",
     "output_type": "stream",
     "text": [
      "ERROR:    Exception in ASGI application\n",
      "Traceback (most recent call last):\n",
      "  File \"c:\\users\\eid\\appdata\\local\\programs\\python\\python39\\lib\\site-packages\\uvicorn\\protocols\\http\\httptools_impl.py\", line 376, in run_asgi\n",
      "    result = await app(self.scope, self.receive, self.send)\n",
      "  File \"c:\\users\\eid\\appdata\\local\\programs\\python\\python39\\lib\\site-packages\\uvicorn\\middleware\\proxy_headers.py\", line 75, in __call__\n",
      "    return await self.app(scope, receive, send)\n",
      "  File \"c:\\users\\eid\\appdata\\local\\programs\\python\\python39\\lib\\site-packages\\fastapi\\applications.py\", line 208, in __call__\n",
      "    await super().__call__(scope, receive, send)\n",
      "  File \"c:\\users\\eid\\appdata\\local\\programs\\python\\python39\\lib\\site-packages\\starlette\\applications.py\", line 112, in __call__\n",
      "    await self.middleware_stack(scope, receive, send)\n",
      "  File \"c:\\users\\eid\\appdata\\local\\programs\\python\\python39\\lib\\site-packages\\starlette\\middleware\\errors.py\", line 181, in __call__\n",
      "    raise exc\n",
      "  File \"c:\\users\\eid\\appdata\\local\\programs\\python\\python39\\lib\\site-packages\\starlette\\middleware\\errors.py\", line 159, in __call__\n",
      "    await self.app(scope, receive, _send)\n",
      "  File \"c:\\users\\eid\\appdata\\local\\programs\\python\\python39\\lib\\site-packages\\starlette\\exceptions.py\", line 82, in __call__\n",
      "    raise exc\n",
      "  File \"c:\\users\\eid\\appdata\\local\\programs\\python\\python39\\lib\\site-packages\\starlette\\exceptions.py\", line 71, in __call__\n",
      "    await self.app(scope, receive, sender)\n",
      "  File \"c:\\users\\eid\\appdata\\local\\programs\\python\\python39\\lib\\site-packages\\starlette\\routing.py\", line 656, in __call__\n",
      "    await route.handle(scope, receive, send)\n",
      "  File \"c:\\users\\eid\\appdata\\local\\programs\\python\\python39\\lib\\site-packages\\starlette\\routing.py\", line 259, in handle\n",
      "    await self.app(scope, receive, send)\n",
      "  File \"c:\\users\\eid\\appdata\\local\\programs\\python\\python39\\lib\\site-packages\\starlette\\routing.py\", line 61, in app\n",
      "    response = await func(request)\n",
      "  File \"c:\\users\\eid\\appdata\\local\\programs\\python\\python39\\lib\\site-packages\\fastapi\\routing.py\", line 226, in app\n",
      "    raw_response = await run_endpoint_function(\n",
      "  File \"c:\\users\\eid\\appdata\\local\\programs\\python\\python39\\lib\\site-packages\\fastapi\\routing.py\", line 159, in run_endpoint_function\n",
      "    return await dependant.call(**values)\n",
      "  File \"C:\\Users\\eid\\AppData\\Local\\Temp\\ipykernel_20844\\3284844638.py\", line 9, in upload_image\n",
      "    with open(f\"uploaded_images/{file.filename}\", \"wb\") as buffer:\n",
      "  File \"c:\\users\\eid\\appdata\\local\\programs\\python\\python39\\lib\\site-packages\\IPython\\core\\interactiveshell.py\", line 310, in _modified_open\n",
      "    return io_open(file, *args, **kwargs)\n",
      "FileNotFoundError: [Errno 2] No such file or directory: 'uploaded_images/Training_99973350.jpg'\n",
      "INFO:     Shutting down\n",
      "INFO:     Waiting for application shutdown.\n",
      "INFO:     Application shutdown complete.\n",
      "INFO:     Finished server process [20844]\n"
     ]
    }
   ],
   "source": [
    "app = FastAPI(title='Deploying a ML Model with FastAPI')\n",
    "model = tf.keras.models.load_model(r\"C:\\Users\\eid\\Downloads\\Github-repo\\Face_Expression_project\\models\\model_optimal.h5\",compile=False)\n",
    "@app.get(\"/\")\n",
    "def home():\n",
    "    return \"Congratulations! Your API is working as expected.\"\n",
    "\n",
    "@app.post(\"/upload_image/\")\n",
    "async def upload_image(file: UploadFile = File(...)):\n",
    "    with open(f\"uploaded_images/{file.filename}\", \"wb\") as buffer:\n",
    "        shutil.copyfileobj(file.file, buffer)\n",
    "    return {\"filename\": file.filename, \"message\": \"Image uploaded successfully\"}\n",
    "\n",
    "\n",
    "\n",
    "if __name__ == \"__main__\":\n",
    "    uvicorn.run(app, host=\"localhost\", port=8000)\n",
    "# Host depends on the setup you selected (docker or virtual env)"
   ]
  },
  {
   "cell_type": "code",
   "execution_count": null,
   "metadata": {},
   "outputs": [],
   "source": []
  }
 ],
 "metadata": {
  "kernelspec": {
   "display_name": "Python 3 (ipykernel)",
   "language": "python",
   "name": "python3"
  },
  "language_info": {
   "codemirror_mode": {
    "name": "ipython",
    "version": 3
   },
   "file_extension": ".py",
   "mimetype": "text/x-python",
   "name": "python",
   "nbconvert_exporter": "python",
   "pygments_lexer": "ipython3",
   "version": "3.9.0"
  }
 },
 "nbformat": 4,
 "nbformat_minor": 4
}
